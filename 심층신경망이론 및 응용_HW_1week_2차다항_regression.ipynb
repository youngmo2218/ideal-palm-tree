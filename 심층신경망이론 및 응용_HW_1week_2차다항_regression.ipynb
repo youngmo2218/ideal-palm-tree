{
 "cells": [
  {
   "cell_type": "code",
   "execution_count": 1,
   "id": "cbc819a3",
   "metadata": {
    "scrolled": true
   },
   "outputs": [],
   "source": [
    "import numpy as np\n",
    "import pandas as pd\n",
    "import matplotlib.pyplot as plt\n",
    "from sympy import Derivative, symbols\n",
    "%matplotlib inline"
   ]
  },
  {
   "cell_type": "code",
   "execution_count": 2,
   "id": "d745b6e1",
   "metadata": {},
   "outputs": [],
   "source": [
    "# input data\n",
    "X=[0,1,1,2]\n",
    "Y=[0,1,2,1]"
   ]
  },
  {
   "cell_type": "code",
   "execution_count": 3,
   "id": "c6b5485b",
   "metadata": {},
   "outputs": [],
   "source": [
    "#구하고자 하는 가중치 바이어스를 문자로 변경\n",
    "W2=symbols('W2')\n",
    "W1=symbols('W1')\n",
    "W0=symbols('W0')"
   ]
  },
  {
   "cell_type": "code",
   "execution_count": 4,
   "id": "78b3fbd3",
   "metadata": {},
   "outputs": [],
   "source": [
    "#loss function 계산함수\n",
    "def lossfuntion(x,y):\n",
    "    e=0\n",
    "    for i in range(len(x)):\n",
    "        a=x[i]\n",
    "        b=y[i]\n",
    "        c=W2*a**2+W1*a+W0\n",
    "        d=(b-c)**2\n",
    "        e=e+d\n",
    "        print(e)\n",
    "    return e"
   ]
  },
  {
   "cell_type": "code",
   "execution_count": 5,
   "id": "b22eae0d",
   "metadata": {},
   "outputs": [
    {
     "name": "stdout",
     "output_type": "stream",
     "text": [
      "W0**2\n",
      "W0**2 + (-W0 - W1 - W2 + 1)**2\n",
      "W0**2 + (-W0 - W1 - W2 + 1)**2 + (-W0 - W1 - W2 + 2)**2\n",
      "W0**2 + (-W0 - 2*W1 - 4*W2 + 1)**2 + (-W0 - W1 - W2 + 1)**2 + (-W0 - W1 - W2 + 2)**2\n"
     ]
    }
   ],
   "source": [
    "MSE=lossfuntion(X,Y)"
   ]
  },
  {
   "cell_type": "code",
   "execution_count": 6,
   "id": "106b44a6",
   "metadata": {},
   "outputs": [
    {
     "name": "stdout",
     "output_type": "stream",
     "text": [
      "12*W0 + 20*W1 + 36*W2 - 14\n",
      "8*W0 + 12*W1 + 20*W2 - 10\n",
      "8*W0 + 8*W1 + 12*W2 - 8\n"
     ]
    }
   ],
   "source": [
    "#Lossfunction 을 각 변수별 편미분 수행\n",
    "MSE_W2 = Derivative(MSE,W2).doit()\n",
    "MSE_W1 = Derivative(MSE,W1).doit()\n",
    "MSE_W0 = Derivative(MSE,W0).doit()\n",
    "\n",
    "print(MSE_W2)\n",
    "print(MSE_W1)\n",
    "print(MSE_W0)"
   ]
  },
  {
   "cell_type": "code",
   "execution_count": 7,
   "id": "876972bc",
   "metadata": {},
   "outputs": [],
   "source": [
    "# 행렬을 이용한 연립 방정식 풀기\n",
    "A=np.array([[12,20,36],[8,12,20],[8,8,12]])\n",
    "B=np.array([14,10,8])\n",
    "# A 의 역행열\n",
    "C=np.linalg.inv(A)\n",
    "# D 각 W 값의 행렬\n",
    "D=np.dot(C,B)"
   ]
  },
  {
   "cell_type": "code",
   "execution_count": 12,
   "id": "25be5df2",
   "metadata": {},
   "outputs": [
    {
     "data": {
      "image/png": "[encoded data removed]",
      "text/plain": [
       "<Figure size 432x288 with 1 Axes>"
      ]
     },
     "metadata": {
      "needs_background": "light"
     },
     "output_type": "display_data"
    }
   ],
   "source": [
    "# 그래프로 시각화 하기\n",
    "x=np.arange(-2,5,0.1)\n",
    "y=D[2]*x**2+D[1]*x+D[0]\n",
    "plt.scatter(X,Y,c=\"red\",label = 'Input Data')\n",
    "plt.plot(x,y,c=\"blue\",label='Model Y=-X^2+2.5X+0')\n",
    "plt.xlim(-2,5)\n",
    "plt.ylim(-12,4)\n",
    "plt.legend()\n",
    "plt.grid(True)\n",
    "plt.title('Model Curve')\n",
    "plt.savefig('Model Curve', dpi=300)\n",
    "plt.show()"
   ]
  },
  {
   "cell_type": "code",
   "execution_count": 11,
   "id": "01c86703",
   "metadata": {},
   "outputs": [
    {
     "name": "stdout",
     "output_type": "stream",
     "text": [
      "W2= -1.0\n",
      "W1= 2.5\n",
      "W0= 0.0\n"
     ]
    }
   ],
   "source": [
    "# W 값\n",
    "print('W2=',round(D[2],4))\n",
    "print('W1=',round(D[1],4))\n",
    "print('W0=',round(D[0],4))"
   ]
  },
  {
   "cell_type": "code",
   "execution_count": null,
   "id": "be53f4e0",
   "metadata": {},
   "outputs": [],
   "source": []
  }
 ],
 "metadata": {
  "kernelspec": {
   "display_name": "Python 3",
   "language": "python",
   "name": "python3"
  },
  "language_info": {
   "codemirror_mode": {
    "name": "ipython",
    "version": 3
   },
   "file_extension": ".py",
   "mimetype": "text/x-python",
   "name": "python",
   "nbconvert_exporter": "python",
   "pygments_lexer": "ipython3",
   "version": "3.6.13"
  }
 },
 "nbformat": 4,
 "nbformat_minor": 5
}
